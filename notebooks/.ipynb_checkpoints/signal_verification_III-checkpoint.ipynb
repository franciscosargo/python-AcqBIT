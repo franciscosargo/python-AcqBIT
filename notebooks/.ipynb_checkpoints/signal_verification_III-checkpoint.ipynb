{
 "cells": [
  {
   "cell_type": "code",
   "execution_count": 1,
   "metadata": {},
   "outputs": [
    {
     "name": "stderr",
     "output_type": "stream",
     "text": [
      "C:\\ProgramData\\Anaconda2\\lib\\site-packages\\h5py\\__init__.py:36: FutureWarning: Conversion of the second argument of issubdtype from `float` to `np.floating` is deprecated. In future, it will be treated as `np.float64 == np.dtype(float).type`.\n",
      "  from ._conv import register_converters as _register_converters\n"
     ]
    }
   ],
   "source": [
    "import numpy as np\n",
    "import h5py as h5\n",
    "import os\n",
    "import matplotlib.pyplot as plt"
   ]
  },
  {
   "cell_type": "code",
   "execution_count": 15,
   "metadata": {},
   "outputs": [],
   "source": [
    "def fetch_acq_files(user_name, acquistion_folder, device_name):\n",
    "    path_name = os.path.join('~', 'Desktop', 'acqBIT')   \n",
    "    path = os.path.expanduser(os.path.join(path_name, user_name, acquisition_folder,device_name))\n",
    "    list_files = os.listdir(path)\n",
    "    acq_files = [os.path.join(path, path_file)  for path_file in list_files if '.h5' in path_file]\n",
    "    return acq_files\n",
    "\n",
    "def get_channel_from_files(acq_files, channel_name):\n",
    "    channels = []\n",
    "    for file_path in acq_files:\n",
    "        with h5.File(file_path, 'r') as f:\n",
    "            r_group = f[f.keys()[0]]\n",
    "            channel = r_group[channel_name][:]\n",
    "            channels.append(channel)\n",
    "    return channels"
   ]
  },
  {
   "cell_type": "code",
   "execution_count": 16,
   "metadata": {},
   "outputs": [
    {
     "name": "stdout",
     "output_type": "stream",
     "text": [
      "[array([[ 0],\n",
      "       [ 1],\n",
      "       [ 2],\n",
      "       ...,\n",
      "       [13],\n",
      "       [14],\n",
      "       [15]], dtype=uint16), array([[ 0],\n",
      "       [ 1],\n",
      "       [ 2],\n",
      "       ...,\n",
      "       [13],\n",
      "       [14],\n",
      "       [15]], dtype=uint16), array([[ 0],\n",
      "       [ 1],\n",
      "       [ 2],\n",
      "       ...,\n",
      "       [13],\n",
      "       [14],\n",
      "       [15]], dtype=uint16), array([[ 0],\n",
      "       [ 1],\n",
      "       [ 2],\n",
      "       ...,\n",
      "       [13],\n",
      "       [14],\n",
      "       [15]], dtype=uint16), array([[ 0],\n",
      "       [ 1],\n",
      "       [ 2],\n",
      "       ...,\n",
      "       [13],\n",
      "       [14],\n",
      "       [15]], dtype=uint16)]\n"
     ]
    }
   ],
   "source": [
    "# Fetch created directory\n",
    "user_name = 'New User'\n",
    "acquisition_folder = 'NOTEBOOK TEST'\n",
    "device_name = 'VR EDA'\n",
    "acq_files = fetch_acq_files(user_name, acquisition_folder, device_name)\n",
    "\n",
    "# Get sequence number for acquisition\n",
    "channel_name = 'raw/nSeq'\n",
    "nseq = get_channel_from_files(acq_files, channel_name)"
   ]
  }
 ],
 "metadata": {
  "kernelspec": {
   "display_name": "Python 2",
   "language": "python",
   "name": "python2"
  },
  "language_info": {
   "codemirror_mode": {
    "name": "ipython",
    "version": 2
   },
   "file_extension": ".py",
   "mimetype": "text/x-python",
   "name": "python",
   "nbconvert_exporter": "python",
   "pygments_lexer": "ipython2",
   "version": "2.7.14"
  }
 },
 "nbformat": 4,
 "nbformat_minor": 2
}
