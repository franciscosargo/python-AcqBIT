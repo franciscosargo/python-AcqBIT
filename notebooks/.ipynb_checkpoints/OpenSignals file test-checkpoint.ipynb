{
 "cells": [
  {
   "cell_type": "code",
   "execution_count": 16,
   "metadata": {
    "scrolled": false
   },
   "outputs": [],
   "source": [
    "import h5py as h5\n",
    "import numpy as np\n",
    "import matplotlib.pyplot as plt\n",
    "import os"
   ]
  },
  {
   "cell_type": "code",
   "execution_count": 14,
   "metadata": {},
   "outputs": [],
   "source": [
    "def fetch_acq_files(user_name, acquistion_folder, device_name):\n",
    "    path_name = os.path.join('~', 'Desktop', 'acqBIT')   \n",
    "    path = os.path.expanduser(os.path.join(path_name, user_name, acquisition_folder,device_name))\n",
    "    list_files = os.listdir(path)\n",
    "    acq_files = [os.path.join(path, path_file)  for path_file in list_files if '.h5' in path_file]\n",
    "    return acq_files\n",
    "\n",
    "def get_channel_from_files(acq_files, channel_name):\n",
    "    channels = []\n",
    "    for file_path in acq_files:\n",
    "        with h5.File(file_path, 'r') as f:\n",
    "            r_group = f[f.keys()[0]]\n",
    "            channel = r_group[channel_name][:]\n",
    "            channels.append(channel)\n",
    "    return channels"
   ]
  },
  {
   "cell_type": "code",
   "execution_count": 2,
   "metadata": {},
   "outputs": [
    {
     "name": "stdout",
     "output_type": "stream",
     "text": [
      "[[0.00000000e+00]\n",
      " [2.77777855e-05]\n",
      " [5.55555710e-05]\n",
      " ...\n",
      " [9.99999444e+01]\n",
      " [9.99999722e+01]\n",
      " [1.00000000e+02]]\n"
     ]
    }
   ],
   "source": [
    "# create toy sine wave \n",
    "n = 3600*1000\n",
    "t_s = np.linspace(0, 100, n).reshape(n, 1)\n",
    "print t_s\n",
    "f = 1\n",
    "xi = np.pi\n",
    "K = 255\n",
    "signal = K * np.tan(2*f*np.pi*t_s + xi)"
   ]
  },
  {
   "cell_type": "code",
   "execution_count": 3,
   "metadata": {
    "scrolled": true
   },
   "outputs": [
    {
     "data": {
      "image/png": "[encoded data removed]",
      "text/plain": [
       "<matplotlib.figure.Figure at 0x17ef8cf8>"
      ]
     },
     "metadata": {},
     "output_type": "display_data"
    },
    {
     "name": "stdout",
     "output_type": "stream",
     "text": [
      "[[-3.12284934e-14]\n",
      " [ 4.45059087e-02]\n",
      " [ 8.90118202e-02]\n",
      " ...\n",
      " [-8.90118202e-02]\n",
      " [-4.45059087e-02]\n",
      " [-1.74721723e-12]]\n"
     ]
    }
   ],
   "source": [
    "plt.figure(figsize=(15, 10))\n",
    "plt.plot(signal)\n",
    "plt.show()\n",
    "\n",
    "print signal"
   ]
  },
  {
   "cell_type": "code",
   "execution_count": 6,
   "metadata": {},
   "outputs": [],
   "source": [
    "## dump toy signal with same dimension into openSignals file\n",
    "path_file = 'C:\\\\Users\\\\franciscosargo\\\\Desktop\\\\opensignals_201607181669_2019-01-30_17-29-39.h5'\n",
    "path_file_test = 'C:\\\\Users\\\\franciscosargo\\\\Desktop\\\\test.h5'\n",
    "with h5.File(path_file, 'r+') as f, h5.File(path_file_test, 'w') as f_test:\n",
    "    r_group = f[f.keys()[0]]\n",
    "    group_id = f_test.require_group('/')\n",
    "    f.copy(r_group, group_id)"
   ]
  },
  {
   "cell_type": "code",
   "execution_count": null,
   "metadata": {},
   "outputs": [],
   "source": [
    "## dump toy signal with same dimension into openSignals file\n",
    "if False:\n",
    "    path_file = 'C:\\\\Users\\\\franciscosargo\\\\Desktop\\\\test.h5'\n",
    "    with h5.File(path_file, 'r+') as f:\n",
    "        r_group = f[f.keys()[0]]\n",
    "        # Replace all ananalog channels with dummy siganl\n",
    "        for i in xrange(1, 7):\n",
    "            data = r_group['raw/channel_{}'.format(i)]\n",
    "            data[...] = signal"
   ]
  },
  {
   "cell_type": "code",
   "execution_count": null,
   "metadata": {
    "scrolled": true
   },
   "outputs": [],
   "source": [
    "### Compute the specified metrics by the OpenSignals Documentation\n",
    "if False:\n",
    "    i = 1\n",
    "    with h5.File(path_file_test, 'r+') as f_test:\n",
    "\n",
    "        for i in [1, 2, 3, 4, 5, 6]:\n",
    "\n",
    "            print i\n",
    "            for level in [10, 100, 1000]:\n",
    "\n",
    "                print level\n",
    "\n",
    "                # Compute moving support statistics\n",
    "                r_group = f_test[f_test.keys()[0]]\n",
    "                data = r_group['raw/channel_{}'.format(i)]\n",
    "                Mx = np.array([max(data[c:c+level]) for c in xrange(0, len(data), level)])\n",
    "                mx = np.array([min(data[c:c+level]) for c in xrange(0, len(data), level)])\n",
    "                mean = np.array([np.mean(data[c:c+level]) for c in xrange(0, len(data), level)])\n",
    "                mean_x2 = np.array([np.mean(data[c:c+level])**2 for c in xrange(0, len(data), level)])\n",
    "                sd = np.array([np.std(data[c:c+level])**2 for c in xrange(0, len(data), level)])\n",
    "                t = np.array(xrange(0, len(data), level))\n",
    "\n",
    "                # Change the data on disk\n",
    "                data = r_group['support/level_{}/channel_{}/Mx'.format(level, i)]\n",
    "                data[...] = Mx.reshape(len(Mx), 1)\n",
    "\n",
    "                data = r_group['support/level_{}/channel_{}/mean'.format(level, i)]\n",
    "                data[...] = mean.reshape(len(Mx), 1)\n",
    "\n",
    "                data = r_group['support/level_{}/channel_{}/mean_x2'.format(level, i)]\n",
    "                data[...] = mean_x2.reshape(len(Mx), 1)\n",
    "\n",
    "                data = r_group['support/level_{}/channel_{}/mx'.format(level, i)]\n",
    "                data[...] = mx.reshape(len(Mx), 1)\n",
    "\n",
    "                data = r_group['support/level_{}/channel_{}/sd'.format(level, i)]\n",
    "                data[...] = sd.reshape(len(Mx), 1)\n",
    "\n",
    "                data = r_group['support/level_{}/channel_{}/t'.format(level, i)]\n",
    "                data[...] = t.reshape(len(Mx), 1)"
   ]
  },
  {
   "cell_type": "code",
   "execution_count": 8,
   "metadata": {},
   "outputs": [
    {
     "name": "stdout",
     "output_type": "stream",
     "text": [
      "(3600000L, 1L)\n",
      "(3600000L, 4L)\n",
      "(3600000L, 6L)\n"
     ]
    }
   ],
   "source": [
    "acqChannels = [1, 2, 3, 4, 5, 6]\n",
    "length = len(signal)\n",
    "\n",
    "nd_sequence = np.arange(0, length).reshape(length, 1)\n",
    "nd_digital = np.zeros((length, 4))\n",
    "\n",
    "# Set dummy all equal dummy analog channels\n",
    "nd_analog = np.array([signal[:, 0] for i in acqChannels], copy=False).T\n",
    "\n",
    "print nd_sequence.shape\n",
    "print nd_digital.shape\n",
    "print nd_analog.shape\n",
    "\n",
    "ndsignal = np.concatenate((nd_sequence, nd_digital, nd_analog), axis=1)"
   ]
  },
  {
   "cell_type": "code",
   "execution_count": 40,
   "metadata": {},
   "outputs": [],
   "source": [
    "# Fetch created directory\n",
    "user_name = 'New User'\n",
    "acquisition_folder = '20190225-205628'\n",
    "device_name = 'VR EDA'\n",
    "acq_files = fetch_acq_files(user_name, acquisition_folder, device_name)[0:1]\n",
    "\n",
    "# Get sequence number for acquisition\n",
    "# Set names of the datasets, order according to the data array\n",
    "nseq_dset_names = ['raw/nSeq']\n",
    "digital_dset_names = ['digital/digital_{}'.format(dgNr + 1) for dgNr in xrange(0, 4)]\n",
    "analog_dset_names = ['raw/channel_{}'.format(chNr + 1)  for chNr in xrange(0, 6)]\n",
    "\n",
    "array = []\n",
    "for channel_name in nseq_dset_names + digital_dset_names + analog_dset_names:\n",
    "    array.append(get_channel_from_files(acq_files, channel_name)[0])"
   ]
  },
  {
   "cell_type": "code",
   "execution_count": 41,
   "metadata": {},
   "outputs": [
    {
     "data": {
      "image/png": "[encoded data removed]",
      "text/plain": [
       "<matplotlib.figure.Figure at 0x2d5ccfd0>"
      ]
     },
     "metadata": {},
     "output_type": "display_data"
    },
    {
     "data": {
      "image/png": "[encoded data removed]",
      "text/plain": [
       "<matplotlib.figure.Figure at 0x1d3faa90>"
      ]
     },
     "metadata": {},
     "output_type": "display_data"
    },
    {
     "data": {
      "image/png": "[encoded data removed]",
      "text/plain": [
       "<matplotlib.figure.Figure at 0x17fe4e48>"
      ]
     },
     "metadata": {},
     "output_type": "display_data"
    },
    {
     "data": {
      "image/png": "[encoded data removed]",
      "text/plain": [
       "<matplotlib.figure.Figure at 0x1cd94a90>"
      ]
     },
     "metadata": {},
     "output_type": "display_data"
    },
    {
     "data": {
      "image/png": "[encoded data removed]",
      "text/plain": [
       "<matplotlib.figure.Figure at 0x2e699198>"
      ]
     },
     "metadata": {},
     "output_type": "display_data"
    },
    {
     "data": {
      "image/png": "[encoded data removed]",
      "text/plain": [
       "<matplotlib.figure.Figure at 0x2e6b0a90>"
      ]
     },
     "metadata": {},
     "output_type": "display_data"
    },
    {
     "data": {
      "image/png": "[encoded data removed]",
      "text/plain": [
       "<matplotlib.figure.Figure at 0x1d919ac8>"
      ]
     },
     "metadata": {},
     "output_type": "display_data"
    },
    {
     "data": {
      "image/png": "[encoded data removed]",
      "text/plain": [
       "<matplotlib.figure.Figure at 0x2cf5d1d0>"
      ]
     },
     "metadata": {},
     "output_type": "display_data"
    },
    {
     "data": {
      "image/png": "[encoded data removed]",
      "text/plain": [
       "<matplotlib.figure.Figure at 0x1ced4898>"
      ]
     },
     "metadata": {},
     "output_type": "display_data"
    },
    {
     "data": {
      "image/png": "[encoded data removed]",
      "text/plain": [
       "<matplotlib.figure.Figure at 0x2dfccc50>"
      ]
     },
     "metadata": {},
     "output_type": "display_data"
    },
    {
     "data": {
      "image/png": "[encoded data removed]",
      "text/plain": [
       "<matplotlib.figure.Figure at 0x2ebb6f28>"
      ]
     },
     "metadata": {},
     "output_type": "display_data"
    }
   ],
   "source": [
    "for channel in array:\n",
    "    plt.figure()\n",
    "    plt.plot(channel)"
   ]
  },
  {
   "cell_type": "code",
   "execution_count": 42,
   "metadata": {
    "scrolled": false
   },
   "outputs": [
    {
     "name": "stdout",
     "output_type": "stream",
     "text": [
      "(38000L, 11L)\n"
     ]
    }
   ],
   "source": [
    "ndsignal = np.concatenate(array, axis=1)\n",
    "print ndsignal.shape"
   ]
  },
  {
   "cell_type": "code",
   "execution_count": 44,
   "metadata": {},
   "outputs": [
    {
     "name": "stdout",
     "output_type": "stream",
     "text": [
      "raw/nSeq\n",
      "digital/digital_1\n",
      "digital/digital_2\n",
      "digital/digital_3\n",
      "digital/digital_4\n",
      "raw/channel_1\n",
      "raw/channel_2\n",
      "raw/channel_3\n",
      "raw/channel_4\n",
      "raw/channel_5\n",
      "raw/channel_6\n"
     ]
    }
   ],
   "source": [
    "def _write_acq_channel(r_group, channelName, channelSignal):\n",
    "    \"\"\"\n",
    "    Write 1D signal from acquistion to the end of h5 dataset\n",
    "    \"\"\"\n",
    "    # Write acquisition channel to h5 dset\n",
    "    nSamples = channelSignal.shape[0]\n",
    "    dset = r_group[channelName]\n",
    "    nSamples_ds = dset.shape[0]\n",
    "    dset.resize((nSamples_ds + nSamples, 1))\n",
    "    dset[-nSamples:, 0] = channelSignal\n",
    "\n",
    "\n",
    "def write_h5file(r_group, acqChannels, ndsignal):\n",
    "    \"\"\" \n",
    "    Utility function to open and write to a previously opened h5 file for the acquisition\n",
    "    \"\"\"\n",
    "    # Set names of the datasets, order according to the data array\n",
    "    nseq_dset_names = ['raw/nSeq']\n",
    "    digital_dset_names = ['digital/digital_{}'.format(dgNr + 1) for dgNr in xrange(0, 4)]\n",
    "    analog_dset_names = ['raw/channel_{}'.format(chNr)  for chNr in acqChannels]\n",
    "    dset_names = nseq_dset_names + digital_dset_names + analog_dset_names\n",
    "\n",
    "    # Set the datasets on the file\n",
    "    for i, dset_name in enumerate(dset_names):\n",
    "        _write_acq_channel(r_group, dset_name, ndsignal[:, i])\n",
    "\n",
    "        \n",
    "def overwrite_dsets(r_group):\n",
    "\n",
    "    # Set names of the datasets, order according to the data array\n",
    "    nseq_dset_names = ['raw/nSeq']\n",
    "    digital_dset_names = ['digital/digital_{}'.format(dgNr + 1) for dgNr in xrange(0, 4)]\n",
    "    analog_dset_names = ['raw/channel_{}'.format(chNr + 1)  for chNr in xrange(0, 6)]\n",
    "    dset_names = nseq_dset_names + digital_dset_names + analog_dset_names\n",
    "\n",
    "    # Set the datasets on the file\n",
    "    for dset_name in dset_names:\n",
    "        print dset_name\n",
    "        attrs = r_group[dset_name].attrs\n",
    "        del r_group[dset_name]\n",
    "        r_group.create_dataset(dset_name, \n",
    "                               dtype='uint16', shape=(0, 1), \n",
    "                               maxshape=(None, 1), chunks=(1024, 1))\n",
    "\n",
    "        for k in attrs.keys():\n",
    "            # Set attributes of the new dataset\n",
    "            r_group[dset_name].attrs[k] = attrs[k]\n",
    "                        \n",
    "\n",
    "def open_h5file_os(path_file):\n",
    "    dummy_path_file = 'C:\\\\Users\\\\franciscosargo\\\\Desktop\\\\opensignals_201604120230_2019-02-03_13-53-11.h5'\n",
    "    ## Copy the contents from the dummy file\n",
    "    with h5.File(dummy_path_file, 'r+') as dummy_f, h5.File(path_file, 'w') as f:\n",
    "        r_group = dummy_f[dummy_f.keys()[0]]\n",
    "        group_id = f.require_group('/')\n",
    "        dummy_f.copy(r_group, group_id)\n",
    "\n",
    "        \n",
    "def support_metrics(array):\n",
    "    Mx = array.max()\n",
    "    mx = array.min()\n",
    "    mean = np.mean(array)\n",
    "    mean_x2 = np.mean(array)**2\n",
    "    sd = np.std(array)\n",
    "    return np.array([Mx, mx, mean, mean_x2, sd])\n",
    "\n",
    "\n",
    "def _compute_support(r_group, channel_name, support_channel_name, level):\n",
    "    data = r_group[channel_name]\n",
    "    channel_name = support_channel_name\n",
    "    #print channel_name\n",
    "    \n",
    "    if len(data) > level:\n",
    "        sp = np.array(map(support_metrics, [data[c:c+level] for c in xrange(0, len(data), level)]), copy=False)\n",
    "        t = np.array(xrange(0, len(data), level))\n",
    "        length = len(t)\n",
    "\n",
    "        # Change the data on disk\n",
    "        dset_name = 'support/level_{}/{}/Mx'.format(level, channel_name)\n",
    "        data = r_group[dset_name]\n",
    "        del r_group[dset_name]\n",
    "        r_group.create_dataset(dset_name, dtype='uint16', data=sp[:, 0].reshape(length, 1))\n",
    "        \n",
    "        dset_name = 'support/level_{}/{}/mx'.format(level, channel_name)\n",
    "        data = r_group[dset_name]\n",
    "        del r_group[dset_name]\n",
    "        r_group.create_dataset(dset_name, dtype='uint16', data=sp[:, 1].reshape(length, 1))\n",
    "        \n",
    "        dset_name = 'support/level_{}/{}/mean'.format(level, channel_name)\n",
    "        data = r_group[dset_name]\n",
    "        del r_group[dset_name]\n",
    "        r_group.create_dataset(dset_name, dtype='uint16', data=sp[:, 2].reshape(length, 1))\n",
    "        \n",
    "        dset_name = 'support/level_{}/{}/mean_x2'.format(level, channel_name)\n",
    "        data = r_group[dset_name]\n",
    "        del r_group[dset_name]\n",
    "        r_group.create_dataset(dset_name, dtype='uint16', data=sp[:, 3].reshape(length, 1))\n",
    "        \n",
    "        dset_name = 'support/level_{}/{}/sd'.format(level, channel_name)\n",
    "        data = r_group[dset_name]\n",
    "        del r_group[dset_name]\n",
    "        r_group.create_dataset(dset_name, dtype='uint16', data=sp[:, 4].reshape(length, 1))\n",
    "        \n",
    "        dset_name = 'support/level_{}/{}/t'.format(level, channel_name)\n",
    "        data = r_group[dset_name]\n",
    "        del r_group[dset_name]\n",
    "        r_group.create_dataset(dset_name, dtype='uint16', data=t.reshape(length, 1))\n",
    "\n",
    "        \n",
    "def compute_support(r_group, acqChannels, levels):\n",
    "    digital_dset_names = ['digital/digital_{}'.format(dgNr) for dgNr in xrange(1, 4)]\n",
    "    digital_support_dset_names = ['dig_channel_{}'.format(dgNr) for dgNr in xrange(1, 4)]\n",
    "    analog_dset_names = ['raw/channel_{}'.format(chNr)  for chNr in acqChannels]\n",
    "    analog_dset_support_names = ['channel_{}'.format(chNr)  for chNr in acqChannels]\n",
    "    dset_names = digital_dset_names + analog_dset_names\n",
    "    support_dset_names = digital_support_dset_names + analog_dset_support_names\n",
    "    \n",
    "    for channel_name, support_channel_name in zip(dset_names, support_dset_names):\n",
    "        #print channel_name\n",
    "        #print support_channel_name\n",
    "        for level in levels:\n",
    "            #print level\n",
    "            _compute_support(r_group, channel_name, support_channel_name, level)\n",
    "    \n",
    "    \n",
    "path_file = 'C:\\\\Users\\\\franciscosargo\\\\Desktop\\\\good_file.h5'\n",
    "open_h5file_os(path_file)\n",
    "with h5.File(path_file) as f:\n",
    "    r_group = f[f.keys()[0]]\n",
    "    overwrite_dsets(r_group)\n",
    "    write_h5file(r_group, acqChannels, ndsignal)\n",
    "    compute_support(r_group, acqChannels, [10, 100, 1000])\n",
    "      \n",
    "#replace_dsets(path_file, signal)\n",
    "\n",
    "\n",
    "# with h5.File(path_file_test, 'r+') as f_test:\n",
    "    \n",
    "#     # Compute moving support statistics\n",
    "#     r_group = f_test[f_test.keys()[0]]\n",
    "    \n",
    "#     [compute_support(r_group, i, level) for i in xrange(1, 7, 1)\n",
    "#                                         for level in [10, 100, 1000]]"
   ]
  },
  {
   "cell_type": "code",
   "execution_count": null,
   "metadata": {},
   "outputs": [],
   "source": [
    "def support_metrics(array):\n",
    "    Mx = array.max(axis=0)\n",
    "    mx = array.min(axis=0)\n",
    "    mean = np.mean(array, axis=0)\n",
    "    mean_x2 = np.mean(array, axis=0)**2\n",
    "    sd = np.std(array, axis=0)\n",
    "    return np.stack((Mx, mx, mean, mean_x2, sd))\n",
    "\n",
    "\n",
    "### Statistical Computation of samples test\n",
    "for level in [10, 100, 1000]:\n",
    "    N = n/level\n",
    "    list_split = np.array_split(ndsignal[:, 1:], N)\n",
    "    support = np.array(map(support_metrics, list_split), copy=False)"
   ]
  },
  {
   "cell_type": "code",
   "execution_count": null,
   "metadata": {},
   "outputs": [],
   "source": [
    "print support[-1].shape"
   ]
  }
 ],
 "metadata": {
  "kernelspec": {
   "display_name": "Python 2",
   "language": "python",
   "name": "python2"
  },
  "language_info": {
   "codemirror_mode": {
    "name": "ipython",
    "version": 2
   },
   "file_extension": ".py",
   "mimetype": "text/x-python",
   "name": "python",
   "nbconvert_exporter": "python",
   "pygments_lexer": "ipython2",
   "version": "2.7.14"
  }
 },
 "nbformat": 4,
 "nbformat_minor": 2
}
