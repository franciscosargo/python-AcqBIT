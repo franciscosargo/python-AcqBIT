{
 "cells": [
  {
   "cell_type": "code",
   "execution_count": 1,
   "metadata": {
    "scrolled": true
   },
   "outputs": [
    {
     "name": "stderr",
     "output_type": "stream",
     "text": [
      "C:\\ProgramData\\Anaconda2\\lib\\site-packages\\h5py\\__init__.py:36: FutureWarning: Conversion of the second argument of issubdtype from `float` to `np.floating` is deprecated. In future, it will be treated as `np.float64 == np.dtype(float).type`.\n",
      "  from ._conv import register_converters as _register_converters\n"
     ]
    }
   ],
   "source": [
    "import numpy as np\n",
    "import h5py as h5\n",
    "import os\n",
    "import matplotlib.pyplot as plt"
   ]
  },
  {
   "cell_type": "code",
   "execution_count": 22,
   "metadata": {},
   "outputs": [
    {
     "name": "stdout",
     "output_type": "stream",
     "text": [
      "C:\\Users\\franciscosargo\\Desktop\\acqBIT\\New User\\20190224-234242\\module B\n",
      "['201604120140_2019-02-24_23-42-52.h5', '201604120140_2019-02-24_23-42-52_profiling.txt']\n",
      "['C:\\\\Users\\\\franciscosargo\\\\Desktop\\\\acqBIT\\\\New User\\\\20190224-234242\\\\module B\\\\201604120140_2019-02-24_23-42-52.h5']\n"
     ]
    }
   ],
   "source": [
    "# Fetch created directory\n",
    "path_name = os.path.join('~', 'Desktop', 'acqBIT')   \n",
    "user_name = 'New User'\n",
    "acquisition_folder = '20190224-234242'\n",
    "device_name = 'module B'\n",
    "\n",
    "path = os.path.expanduser(os.path.join(path_name, user_name, acquisition_folder,device_name))\n",
    "\n",
    "print path\n",
    "list_files = os.listdir(path)\n",
    "print list_files\n",
    "\n",
    "acq_files = [os.path.join(path, path_file)  for path_file in list_files if '.h5' in path_file]\n",
    "print acq_files"
   ]
  },
  {
   "cell_type": "code",
   "execution_count": 24,
   "metadata": {},
   "outputs": [],
   "source": [
    "## Plot signals\n",
    "channel_name = 'raw/channel_1'\n",
    "\n",
    "for path_file in acq_files:\n",
    "    with h5.File(path_file, 'r') as f:\n",
    "        r_group = f[f.keys()[0]]\n",
    "        channel_dset = r_group[channel_name]"
   ]
  }
 ],
 "metadata": {
  "kernelspec": {
   "display_name": "Python 2",
   "language": "python",
   "name": "python2"
  },
  "language_info": {
   "codemirror_mode": {
    "name": "ipython",
    "version": 2
   },
   "file_extension": ".py",
   "mimetype": "text/x-python",
   "name": "python",
   "nbconvert_exporter": "python",
   "pygments_lexer": "ipython2",
   "version": "2.7.14"
  }
 },
 "nbformat": 4,
 "nbformat_minor": 2
}
