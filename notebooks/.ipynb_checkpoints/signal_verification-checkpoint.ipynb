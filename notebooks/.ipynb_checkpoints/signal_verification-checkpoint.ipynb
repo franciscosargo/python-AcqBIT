{
 "cells": [
  {
   "cell_type": "markdown",
   "metadata": {},
   "source": [
    "## This notebook provides some useful tests to assess the quality of the signals acquired by the python-AcqBIT application (name is a work in progress)."
   ]
  },
  {
   "cell_type": "code",
   "execution_count": 1,
   "metadata": {
    "scrolled": true
   },
   "outputs": [],
   "source": [
    "import numpy as np\n",
    "import h5py as h5\n",
    "import os\n",
    "import matplotlib.pyplot as plt"
   ]
  },
  {
   "cell_type": "code",
   "execution_count": 6,
   "metadata": {},
   "outputs": [],
   "source": [
    "# Open Configuration file\n",
    "macAddress = '20:16:04:12:01:23'\n",
    "\n",
    "# Fetch created directory\n",
    "path_name = os.path.join('~', 'Desktop', 'acqBIT', 'Francisco Sargo')   \n",
    "user = os.path.expanduser(path_name)\n",
    "path_to_save = os.path.expanduser(path_name)"
   ]
  },
  {
   "cell_type": "code",
   "execution_count": 8,
   "metadata": {
    "scrolled": true
   },
   "outputs": [
    {
     "name": "stdout",
     "output_type": "stream",
     "text": [
      "<HDF5 file \"test_2019-01-17_21-32-25.h5\" (mode r)>\n"
     ]
    }
   ],
   "source": [
    "# Choose the file to verify\n",
    "f_name_list = os.listdir(path_to_save)\n",
    "f_name = f_name_list[0]\n",
    "file_path_name = os.path.join(path_to_save, f_name)\n",
    "test_file = h5.File(file_path_name, 'r')\n",
    "\n",
    "print test_file"
   ]
  },
  {
   "cell_type": "code",
   "execution_count": 13,
   "metadata": {},
   "outputs": [
    {
     "name": "stdout",
     "output_type": "stream",
     "text": [
      "C:\\Users\\franciscosargo\\Documents\\OpenSignals (r)evolution\\temp\\opensignals_201604120140_2019-01-17_12-35-40.h5\n",
      "<HDF5 file \"opensignals_201604120140_2019-01-17_12-35-40.h5\" (mode r+)>\n"
     ]
    }
   ],
   "source": [
    "opensignals_path = \"C:\\\\Users\\\\franciscosargo\\\\Documents\\\\OpenSignals (r)evolution\\\\temp\" \n",
    "\n",
    "# Choose the file to verify\n",
    "f_name_list = os.listdir(opensignals_path)\n",
    "f_name = f_name_list[0]\n",
    "file_path_name = os.path.join(opensignals_path, f_name)\n",
    "\n",
    "opensignals_file = h5.File(file_path_name, 'r')\n",
    "print opensignals_file"
   ]
  },
  {
   "cell_type": "code",
   "execution_count": 12,
   "metadata": {},
   "outputs": [
    {
     "data": {
      "text/plain": [
       "[u'20:16:04:12:01:40']"
      ]
     },
     "execution_count": 12,
     "metadata": {},
     "output_type": "execute_result"
    }
   ],
   "source": [
    "test_file.keys()"
   ]
  },
  {
   "cell_type": "code",
   "execution_count": 14,
   "metadata": {},
   "outputs": [
    {
     "data": {
      "text/plain": [
       "[u'20:16:04:12:01:40']"
      ]
     },
     "execution_count": 14,
     "metadata": {},
     "output_type": "execute_result"
    }
   ],
   "source": [
    "opensignals_file.keys()"
   ]
  }
 ],
 "metadata": {
  "kernelspec": {
   "display_name": "Python 2",
   "language": "python",
   "name": "python2"
  },
  "language_info": {
   "codemirror_mode": {
    "name": "ipython",
    "version": 2
   },
   "file_extension": ".py",
   "mimetype": "text/x-python",
   "name": "python",
   "nbconvert_exporter": "python",
   "pygments_lexer": "ipython2",
   "version": "2.7.15"
  }
 },
 "nbformat": 4,
 "nbformat_minor": 2
}
