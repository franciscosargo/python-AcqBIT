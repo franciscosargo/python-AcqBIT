{
 "cells": [
  {
   "cell_type": "markdown",
   "metadata": {},
   "source": [
    "## This notebook provides some useful tests to assess the quality of the signals acquired by the python-AcqBIT application (name is a work in progress)."
   ]
  },
  {
   "cell_type": "code",
   "execution_count": 4,
   "metadata": {},
   "outputs": [],
   "source": [
    "import numpy as np\n",
    "import h5py as h5\n",
    "import os"
   ]
  },
  {
   "cell_type": "code",
   "execution_count": 6,
   "metadata": {},
   "outputs": [],
   "source": [
    "# Open Configuration file\n",
    "macAddress = '20:16:04:12:01:23'\n",
    "\n",
    "# Fetch created directory\n",
    "path_name = os.path.join('~', 'Desktop', 'test', macAddress.replace(':', '-'))   \n",
    "user = os.path.expanduser(path_name)\n",
    "path_to_save = os.path.expanduser(path_name)"
   ]
  },
  {
   "cell_type": "code",
   "execution_count": 19,
   "metadata": {},
   "outputs": [
    {
     "name": "stdout",
     "output_type": "stream",
     "text": [
      "[]\n"
     ]
    }
   ],
   "source": [
    "# Choose the file to verify\n",
    "f_name_list = os.listdir(path_to_save)\n",
    "f_name = f_name_list[0]\n",
    "file_path_name = os.path.join(path_name, f_name)\n",
    "\n",
    "with h5.File(file_path_name) as f:\n",
    "    print "
   ]
  }
 ],
 "metadata": {
  "kernelspec": {
   "display_name": "Python 2",
   "language": "python",
   "name": "python2"
  },
  "language_info": {
   "codemirror_mode": {
    "name": "ipython",
    "version": 2
   },
   "file_extension": ".py",
   "mimetype": "text/x-python",
   "name": "python",
   "nbconvert_exporter": "python",
   "pygments_lexer": "ipython2",
   "version": "2.7.15"
  }
 },
 "nbformat": 4,
 "nbformat_minor": 2
}
