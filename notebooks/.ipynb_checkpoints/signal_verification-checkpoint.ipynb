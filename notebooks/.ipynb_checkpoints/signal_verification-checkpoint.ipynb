{
 "cells": [
  {
   "cell_type": "markdown",
   "metadata": {},
   "source": [
    "# Signal Verification Notebook (Windows)\n",
    "\n",
    "This notebook provides some useful tests to assess the quality of the signals acquired by the python-AcqBIT application (name is a work in progress)."
   ]
  },
  {
   "cell_type": "code",
   "execution_count": 1,
   "metadata": {
    "scrolled": true
   },
   "outputs": [
    {
     "name": "stderr",
     "output_type": "stream",
     "text": [
      "C:\\ProgramData\\Anaconda2\\lib\\site-packages\\h5py\\__init__.py:36: FutureWarning: Conversion of the second argument of issubdtype from `float` to `np.floating` is deprecated. In future, it will be treated as `np.float64 == np.dtype(float).type`.\n",
      "  from ._conv import register_converters as _register_converters\n"
     ]
    }
   ],
   "source": [
    "import numpy as np\n",
    "import h5py as h5\n",
    "import os\n",
    "import matplotlib.pyplot as plt"
   ]
  },
  {
   "cell_type": "markdown",
   "metadata": {},
   "source": [
    "This first cell attempts to retrive the data captured by a device named EDAdevice"
   ]
  },
  {
   "cell_type": "code",
   "execution_count": 10,
   "metadata": {},
   "outputs": [],
   "source": [
    "# Fetch created directory\n",
    "path_name = os.path.join('~', 'Desktop', 'acqBIT')   \n",
    "user = os.path.expanduser(path_name)\n",
    "path_to_save = os.path.expanduser(path_name)\n",
    "\n",
    "user_name = 'New USER'\n",
    "device_name = 'EDAdevice'\n",
    "path_to_device_files = path_to_save + '\\\\' + user_name + '\\\\' + device_name\n",
    "\n",
    "list_files = os.listdir(path_to_device_files)"
   ]
  },
  {
   "cell_type": "code",
   "execution_count": 59,
   "metadata": {
    "scrolled": true
   },
   "outputs": [],
   "source": [
    "# Choose and allocate the acquisition file\n",
    "f_nr = -1\n",
    "path_to_file = path_to_device_files + '\\\\' + list_files[f_nr]\n",
    "test_file = h5.File(path_to_file, 'r')\n",
    "f = test_file\n",
    "r_group = f[f.keys()[0]]  ## get root group with all the datasets"
   ]
  },
  {
   "cell_type": "code",
   "execution_count": 62,
   "metadata": {
    "scrolled": true
   },
   "outputs": [
    {
     "name": "stdout",
     "output_type": "stream",
     "text": [
      "(4130000L, 1L)\n"
     ]
    }
   ],
   "source": [
    "## Print digital signals\n",
    "dg_Nr = 3\n",
    "digital_channel_group = 'digital'\n",
    "digital_channel_name = 'digital_{}'.format(dg_Nr)\n",
    "channel_dset = r_group[digital_channel_group + '/' + digital_channel_name]\n",
    "channel_signal = channel_dset[:]\n",
    "print channel_signal.shape"
   ]
  },
  {
   "cell_type": "code",
   "execution_count": null,
   "metadata": {},
   "outputs": [],
   "source": [
    "## Build time dimension \n"
   ]
  },
  {
   "cell_type": "code",
   "execution_count": 64,
   "metadata": {},
   "outputs": [
    {
     "data": {
      "text/plain": [
       "[<matplotlib.lines.Line2D at 0xa417f28>]"
      ]
     },
     "execution_count": 64,
     "metadata": {},
     "output_type": "execute_result"
    },
    {
     "data": {
      "image/png": "[encoded data removed]",
      "text/plain": [
       "<matplotlib.figure.Figure at 0xcda26a0>"
      ]
     },
     "metadata": {},
     "output_type": "display_data"
    }
   ],
   "source": [
    "plt.figure(figsize=(15, 10))\n",
    "plt.plot(channel_signal)"
   ]
  }
 ],
 "metadata": {
  "kernelspec": {
   "display_name": "Python 2",
   "language": "python",
   "name": "python2"
  },
  "language_info": {
   "codemirror_mode": {
    "name": "ipython",
    "version": 2
   },
   "file_extension": ".py",
   "mimetype": "text/x-python",
   "name": "python",
   "nbconvert_exporter": "python",
   "pygments_lexer": "ipython2",
   "version": "2.7.14"
  }
 },
 "nbformat": 4,
 "nbformat_minor": 2
}
