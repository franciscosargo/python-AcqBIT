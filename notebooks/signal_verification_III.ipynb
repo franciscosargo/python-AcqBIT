{
 "cells": [
  {
   "cell_type": "code",
   "execution_count": 1,
   "metadata": {},
   "outputs": [
    {
     "name": "stderr",
     "output_type": "stream",
     "text": [
      "C:\\ProgramData\\Anaconda2\\lib\\site-packages\\h5py\\__init__.py:36: FutureWarning: Conversion of the second argument of issubdtype from `float` to `np.floating` is deprecated. In future, it will be treated as `np.float64 == np.dtype(float).type`.\n",
      "  from ._conv import register_converters as _register_converters\n"
     ]
    }
   ],
   "source": [
    "import numpy as np\n",
    "import h5py as h5\n",
    "import os\n",
    "import matplotlib.pyplot as plt"
   ]
  },
  {
   "cell_type": "code",
   "execution_count": 15,
   "metadata": {},
   "outputs": [],
   "source": [
    "def fetch_acq_files(user_name, acquistion_folder, device_name):\n",
    "    path_name = os.path.join('~', 'Desktop', 'acqBIT')   \n",
    "    path = os.path.expanduser(os.path.join(path_name, user_name, acquisition_folder,device_name))\n",
    "    list_files = os.listdir(path)\n",
    "    acq_files = [os.path.join(path, path_file)  for path_file in list_files if '.h5' in path_file]\n",
    "    return acq_files\n",
    "\n",
    "def get_channel_from_files(acq_files, channel_name):\n",
    "    channels = []\n",
    "    for file_path in acq_files:\n",
    "        with h5.File(file_path, 'r') as f:\n",
    "            r_group = f[f.keys()[0]]\n",
    "            channel = r_group[channel_name][:]\n",
    "            channels.append(channel)\n",
    "    return channels"
   ]
  },
  {
   "cell_type": "markdown",
   "metadata": {},
   "source": [
    "# Long-term acquisiton characterization\n",
    "\n",
    "In order to attest the efficiency and ultmately the efficieny of the acqBIT app, this notebook is intended to analyse the data "
   ]
  },
  {
   "cell_type": "markdown",
   "metadata": {},
   "source": [
    "# 1. Missing Samples Characterization\n",
    "\n",
    "An important aspect to evaluate long-term acquisition is the characterization of missing samples. Theoretically, missing samples are the result of time-wise expensive computation between reads from the BITalino device. \n",
    "\n",
    "On the acquisition computer, the process of long term-acquisition can be seen essentialy conceptualized as single continuos loop that, in each iteration, reads data from device and performs <font color=red>additional computation</font>.\n",
    "\n",
    "A single process on, implemented in the computer by *python-AcqBIT/bitalino_process.py* is associated with a single device, and thus a single *macAddress*.\n",
    "Depending on the configuration variable *nSamples*, which controls the number of samples to retrieve from device in each read, the process waits the necessary span of time in order to fully retrieve the number of samples specified, an interval which is, of course, a function of the configuration variable *samplingRate*. And then, once recieval is finished, the aditional computation can proceed.\n",
    "\n",
    "On the BITalino device, once the acquisition is started, the continuous sampling of each channel maintains a constant flow of data streaming from the CPU to the Bluetooth Module. Once the sampled data arrives at the module, it is temporarily stored in a buffer awaiting transmission via radio waves, which is initated by a signal of acceptance comming from the acquisition computer (in this instance, by the function *read*). The size of the buffer is determinant in the quantification of missing samples."
   ]
  },
  {
   "cell_type": "markdown",
   "metadata": {},
   "source": [
    "### 1.1. Analysis of the *nSeq* channel"
   ]
  },
  {
   "cell_type": "markdown",
   "metadata": {},
   "source": [
    "A useful information provided from the bitalino device is the number of sequence, which is coded in the acquisition file as *nSeq*"
   ]
  },
  {
   "cell_type": "markdown",
   "metadata": {},
   "source": [
    "#### 1.1.a) <font color=green>HP Omen - Windows 10 x64 -  2 Devices acquisition (6 analog channels each) - High performance computer - 10 Hours acquisiton</font>"
   ]
  },
  {
   "cell_type": "code",
   "execution_count": 19,
   "metadata": {
    "scrolled": true
   },
   "outputs": [],
   "source": [
    "# Fetch created directory\n",
    "user_name = 'New User'\n",
    "acquisition_folder = 'NOTEBOOK TEST'\n",
    "device_name = 'VR EDA'\n",
    "acq_files = fetch_acq_files(user_name, acquisition_folder, device_name)\n",
    "\n",
    "# Get sequence number for acquisition\n",
    "channel_name = 'raw/nSeq'\n",
    "nseq = get_channel_from_files(acq_files, channel_name)"
   ]
  }
 ],
 "metadata": {
  "kernelspec": {
   "display_name": "Python 2",
   "language": "python",
   "name": "python2"
  },
  "language_info": {
   "codemirror_mode": {
    "name": "ipython",
    "version": 2
   },
   "file_extension": ".py",
   "mimetype": "text/x-python",
   "name": "python",
   "nbconvert_exporter": "python",
   "pygments_lexer": "ipython2",
   "version": "2.7.14"
  }
 },
 "nbformat": 4,
 "nbformat_minor": 2
}
