{
 "cells": [
  {
   "cell_type": "markdown",
   "metadata": {},
   "source": [
    "# Signal Verification Notebook (Windows)\n",
    "\n",
    "This notebook provides some useful tests to assess the quality of the signals acquired by the python-AcqBIT application (name is a work in progress)."
   ]
  },
  {
   "cell_type": "code",
   "execution_count": 1,
   "metadata": {
    "scrolled": false
   },
   "outputs": [
    {
     "name": "stderr",
     "output_type": "stream",
     "text": [
      "C:\\ProgramData\\Anaconda2\\lib\\site-packages\\h5py\\__init__.py:36: FutureWarning: Conversion of the second argument of issubdtype from `float` to `np.floating` is deprecated. In future, it will be treated as `np.float64 == np.dtype(float).type`.\n",
      "  from ._conv import register_converters as _register_converters\n"
     ]
    }
   ],
   "source": [
    "import numpy as np\n",
    "import h5py as h5\n",
    "import os\n",
    "import matplotlib.pyplot as plt"
   ]
  },
  {
   "cell_type": "markdown",
   "metadata": {},
   "source": [
    "This first group of cells attempts to retrive the data captured by a device named EDAdevice"
   ]
  },
  {
   "cell_type": "markdown",
   "metadata": {},
   "source": [
    "fdsjfhsajdfhçajsd"
   ]
  },
  {
   "cell_type": "code",
   "execution_count": 2,
   "metadata": {
    "scrolled": true
   },
   "outputs": [
    {
     "ename": "WindowsError",
     "evalue": "[Error 3] The system cannot find the path specified: 'C:\\\\Users\\\\franciscosargo\\\\Desktop\\\\acqBIT\\\\New USER\\\\EDAdevice/*.*'",
     "output_type": "error",
     "traceback": [
      "\u001b[1;31m\u001b[0m",
      "\u001b[1;31mWindowsError\u001b[0mTraceback (most recent call last)",
      "\u001b[1;32m<ipython-input-2-0ec5891a6f0d>\u001b[0m in \u001b[0;36m<module>\u001b[1;34m()\u001b[0m\n\u001b[0;32m      8\u001b[0m \u001b[0mpath_to_device_files\u001b[0m \u001b[1;33m=\u001b[0m \u001b[0mpath_to_save\u001b[0m \u001b[1;33m+\u001b[0m \u001b[1;34m'\\\\'\u001b[0m \u001b[1;33m+\u001b[0m \u001b[0muser_name\u001b[0m \u001b[1;33m+\u001b[0m \u001b[1;34m'\\\\'\u001b[0m \u001b[1;33m+\u001b[0m \u001b[0mdevice_name\u001b[0m\u001b[1;33m\u001b[0m\u001b[0m\n\u001b[0;32m      9\u001b[0m \u001b[1;33m\u001b[0m\u001b[0m\n\u001b[1;32m---> 10\u001b[1;33m \u001b[0mlist_files\u001b[0m \u001b[1;33m=\u001b[0m \u001b[0mos\u001b[0m\u001b[1;33m.\u001b[0m\u001b[0mlistdir\u001b[0m\u001b[1;33m(\u001b[0m\u001b[0mpath_to_device_files\u001b[0m\u001b[1;33m)\u001b[0m\u001b[1;33m\u001b[0m\u001b[0m\n\u001b[0m",
      "\u001b[1;31mWindowsError\u001b[0m: [Error 3] The system cannot find the path specified: 'C:\\\\Users\\\\franciscosargo\\\\Desktop\\\\acqBIT\\\\New USER\\\\EDAdevice/*.*'"
     ]
    }
   ],
   "source": [
    "# Fetch created directory\n",
    "path_name = os.path.join('~', 'Desktop', 'acqBIT')   \n",
    "user = os.path.expanduser(path_name)\n",
    "path_to_save = os.path.expanduser(path_name)\n",
    "\n",
    "user_name = 'New USER'\n",
    "device_name = 'EDAdevice'\n",
    "path_to_device_files = path_to_save + '\\\\' + user_name + '\\\\' + device_name\n",
    "\n",
    "list_files = os.listdir(path_to_device_files)"
   ]
  },
  {
   "cell_type": "code",
   "execution_count": 9,
   "metadata": {
    "scrolled": true
   },
   "outputs": [],
   "source": [
    "# Choose and allocate the acquisition file\n",
    "f_nr = -1\n",
    "path_to_file = path_to_device_files + '\\\\' + list_files[f_nr]\n",
    "test_file = h5.File(path_to_file, 'r')\n",
    "f = test_file\n",
    "r_group = f[f.keys()[0]]  ## get root group with all the datasets"
   ]
  },
  {
   "cell_type": "code",
   "execution_count": 4,
   "metadata": {},
   "outputs": [
    {
     "data": {
      "text/plain": [
       "1"
      ]
     },
     "execution_count": 4,
     "metadata": {},
     "output_type": "execute_result"
    }
   ],
   "source": [
    "dg_Nr"
   ]
  },
  {
   "cell_type": "code",
   "execution_count": 3,
   "metadata": {},
   "outputs": [
    {
     "ename": "NameError",
     "evalue": "name 'r_group' is not defined",
     "output_type": "error",
     "traceback": [
      "\u001b[1;31m\u001b[0m",
      "\u001b[1;31mNameError\u001b[0mTraceback (most recent call last)",
      "\u001b[1;32m<ipython-input-3-bd6ebced9d32>\u001b[0m in \u001b[0;36m<module>\u001b[1;34m()\u001b[0m\n\u001b[0;32m      3\u001b[0m \u001b[0mdigital_channel_group\u001b[0m \u001b[1;33m=\u001b[0m \u001b[1;34m'digital'\u001b[0m\u001b[1;33m\u001b[0m\u001b[0m\n\u001b[0;32m      4\u001b[0m \u001b[0mdigital_channel_name\u001b[0m \u001b[1;33m=\u001b[0m \u001b[1;34m'digital_{}'\u001b[0m\u001b[1;33m.\u001b[0m\u001b[0mformat\u001b[0m\u001b[1;33m(\u001b[0m\u001b[0mdg_Nr\u001b[0m\u001b[1;33m)\u001b[0m\u001b[1;33m\u001b[0m\u001b[0m\n\u001b[1;32m----> 5\u001b[1;33m \u001b[0mchannel_dset\u001b[0m \u001b[1;33m=\u001b[0m \u001b[0mr_group\u001b[0m\u001b[1;33m[\u001b[0m\u001b[0mdigital_channel_group\u001b[0m \u001b[1;33m+\u001b[0m \u001b[1;34m'/'\u001b[0m \u001b[1;33m+\u001b[0m \u001b[0mdigital_channel_name\u001b[0m\u001b[1;33m]\u001b[0m\u001b[1;33m\u001b[0m\u001b[0m\n\u001b[0m\u001b[0;32m      6\u001b[0m \u001b[0mchannel_signal\u001b[0m \u001b[1;33m=\u001b[0m \u001b[0mchannel_dset\u001b[0m\u001b[1;33m[\u001b[0m\u001b[1;33m:\u001b[0m\u001b[1;33m]\u001b[0m\u001b[1;33m\u001b[0m\u001b[0m\n\u001b[0;32m      7\u001b[0m \u001b[1;32mprint\u001b[0m \u001b[0mchannel_signal\u001b[0m\u001b[1;33m.\u001b[0m\u001b[0mshape\u001b[0m\u001b[1;33m\u001b[0m\u001b[0m\n",
      "\u001b[1;31mNameError\u001b[0m: name 'r_group' is not defined"
     ]
    }
   ],
   "source": [
    "## Print digital signals\n",
    "dg_Nr = 1\n",
    "digital_channel_group = 'digital'\n",
    "digital_channel_name = 'digital_{}'.format(dg_Nr)\n",
    "channel_dset = r_group[digital_channel_group + '/' + digital_channel_name]\n",
    "channel_signal = channel_dset[:]\n",
    "print channel_signal.shape"
   ]
  },
  {
   "cell_type": "code",
   "execution_count": 5,
   "metadata": {},
   "outputs": [
    {
     "data": {
      "text/plain": [
       "[u'channel_1',\n",
       " u'channel_2',\n",
       " u'channel_3',\n",
       " u'channel_4',\n",
       " u'channel_5',\n",
       " u'channel_6',\n",
       " u'nseq']"
      ]
     },
     "execution_count": 5,
     "metadata": {},
     "output_type": "execute_result"
    }
   ],
   "source": [
    "r_group['raw'].keys()"
   ]
  },
  {
   "cell_type": "code",
   "execution_count": 6,
   "metadata": {
    "scrolled": true
   },
   "outputs": [
    {
     "name": "stdout",
     "output_type": "stream",
     "text": [
      "[1 1 1 ... 1 1 1]\n"
     ]
    },
    {
     "data": {
      "image/png": "[encoded data removed]",
      "text/plain": [
       "<matplotlib.figure.Figure at 0x86b2828>"
      ]
     },
     "metadata": {},
     "output_type": "display_data"
    }
   ],
   "source": [
    "## Check for missing samples\n",
    "nSeq = r_group['raw/nseq']\n",
    "nSeq_arr = nSeq[:][:, 0].astype(np.int16)\n",
    "d_nSeq_arr = np.diff(nSeq_arr)\n",
    "\n",
    "print d_nSeq_arr\n",
    "\n",
    "plt.figure(figsize=(15, 10))\n",
    "plt.subplot(211)\n",
    "plt.plot(nSeq_arr)\n",
    "plt.subplot(212)\n",
    "plt.plot(d_nSeq_arr)\n",
    "plt.show()"
   ]
  },
  {
   "cell_type": "code",
   "execution_count": 44,
   "metadata": {},
   "outputs": [],
   "source": [
    "np.unique(d_nSeq_arr)\n",
    "test_file.close()"
   ]
  },
  {
   "cell_type": "markdown",
   "metadata": {},
   "source": [
    "## 1. Missing Samples quantification"
   ]
  },
  {
   "cell_type": "markdown",
   "metadata": {},
   "source": [
    "Based on the previous snippets, the quantification of a long-term acquisition run from the application can be made. Since the samples are numbered according to a pre-determined unitary sequence from 0 to 15 (insert reference to BITalino docs), any deviation from unity demonstrates the existance of missing samples. **Note** that one of the main factors for the loss of acquisition samples during a particular run can be the existance of too much computation time inbetween 2 different calls for reading of the serial information from the device. This kind of quantification is thus essential to gauge the performance of continuous long-term acquisition, since it might serve as an indicator of possible bottlenecks caused by software design.   "
   ]
  },
  {
   "cell_type": "markdown",
   "metadata": {},
   "source": [
    "In effect, since the acquisition for each device is managed by a different subprocess spawned by the main process of the application, the quantification of missing samples can be subdivided by device\n"
   ]
  },
  {
   "cell_type": "markdown",
   "metadata": {},
   "source": [
    "The following quantification is related to the acquisition of 3 different devices (named accordingly), on the 30rd of January 2019, from 12:30AM to 08:30AM. "
   ]
  },
  {
   "cell_type": "code",
   "execution_count": 45,
   "metadata": {
    "scrolled": true
   },
   "outputs": [
    {
     "name": "stdout",
     "output_type": "stream",
     "text": [
      "['EDAdevice', 'HANDdevice', 'ModulaA']\n",
      "C:\\Users\\franciscosargo\\Desktop\\acqBIT\\New USER\\EDAdevice\\201604120230_2019-01-31_00-31-13.h5\n",
      "[-15   1]\n",
      "C:\\Users\\franciscosargo\\Desktop\\acqBIT\\New USER\\EDAdevice\\201604120230_2019-01-31_02-31-14.h5\n",
      "[-15   1]\n",
      "C:\\Users\\franciscosargo\\Desktop\\acqBIT\\New USER\\EDAdevice\\201604120230_2019-01-31_04-31-15.h5\n",
      "[-15   1]\n",
      "C:\\Users\\franciscosargo\\Desktop\\acqBIT\\New USER\\EDAdevice\\201604120230_2019-01-31_06-31-17.h5\n",
      "[-15   1]\n",
      "C:\\Users\\franciscosargo\\Desktop\\acqBIT\\New USER\\EDAdevice\\201604120230_2019-01-31_08-31-18.h5\n",
      "[-15   1]\n",
      "C:\\Users\\franciscosargo\\Desktop\\acqBIT\\New USER\\HANDdevice\\201607181669_2019-01-31_00-30-42.h5\n",
      "[-15   1]\n",
      "C:\\Users\\franciscosargo\\Desktop\\acqBIT\\New USER\\HANDdevice\\201607181669_2019-01-31_02-30-43.h5\n",
      "[-15   1]\n",
      "C:\\Users\\franciscosargo\\Desktop\\acqBIT\\New USER\\HANDdevice\\201607181669_2019-01-31_04-30-44.h5\n",
      "[-15   1]\n",
      "C:\\Users\\franciscosargo\\Desktop\\acqBIT\\New USER\\HANDdevice\\201607181669_2019-01-31_06-30-46.h5\n",
      "[-15   1]\n",
      "C:\\Users\\franciscosargo\\Desktop\\acqBIT\\New USER\\HANDdevice\\201607181669_2019-01-31_08-30-47.h5\n",
      "[-15   1]\n",
      "C:\\Users\\franciscosargo\\Desktop\\acqBIT\\New USER\\ModulaA\\201604120123_2019-01-31_00-31-14.h5\n",
      "[-15   1]\n",
      "C:\\Users\\franciscosargo\\Desktop\\acqBIT\\New USER\\ModulaA\\201604120123_2019-01-31_02-31-15.h5\n",
      "[-15   1]\n",
      "C:\\Users\\franciscosargo\\Desktop\\acqBIT\\New USER\\ModulaA\\201604120123_2019-01-31_04-31-16.h5\n",
      "[-15   1]\n",
      "C:\\Users\\franciscosargo\\Desktop\\acqBIT\\New USER\\ModulaA\\201604120123_2019-01-31_06-31-18.h5\n",
      "[-15   1]\n",
      "C:\\Users\\franciscosargo\\Desktop\\acqBIT\\New USER\\ModulaA\\201604120123_2019-01-31_08-31-19.h5\n",
      "[-15   1]\n"
     ]
    }
   ],
   "source": [
    "from datetime import datetime as dt\n",
    "\n",
    "def get_datetime_file(file_name):\n",
    "    return dt.strptime(file_name.split('_')[1] + '-' + file_name.split('_')[2].split('.')[0], '%Y-%m-%d-%H-%M-%S')\n",
    "\n",
    "\n",
    "## General Quantification\n",
    "device_list = ['EDAdevice', 'HANDdevice', 'ModulaA']\n",
    "print device_list\n",
    "\n",
    "\n",
    "long_acq_file_list = [path_to_save + '\\\\' + user_name + '\\\\' + device_name + '\\\\' + file_name \n",
    "                      for device_name in device_list\n",
    "                      for file_name in os.listdir(path_to_save + '\\\\' + user_name + '\\\\' + device_name)\n",
    "                      if get_datetime_file(file_name) > dt(year=2019, month=1, day=31, hour=0, minute=0, second=0)]\n",
    "\n",
    "## Unspecific quantifiaction\n",
    "for path_file in long_acq_file_list:\n",
    "    print path_file\n",
    "    with h5.File(path_file , 'r+') as f:\n",
    "        \n",
    "        # get sequence number\n",
    "        r_group = f[f.keys()[0]]\n",
    "        nSeq = r_group['raw/nseq']\n",
    "        nSeq_arr = nSeq[:][:, 0].astype(np.int16)\n",
    "        d_nSeq_arr = np.diff(nSeq_arr)\n",
    "        print np.unique(d_nSeq_arr)"
   ]
  },
  {
   "cell_type": "code",
   "execution_count": null,
   "metadata": {},
   "outputs": [],
   "source": []
  },
  {
   "cell_type": "markdown",
   "metadata": {},
   "source": [
    "## 2. Synchronization quality assessment"
   ]
  },
  {
   "cell_type": "markdown",
   "metadata": {},
   "source": [
    "## 3. Memory footprint "
   ]
  },
  {
   "cell_type": "code",
   "execution_count": null,
   "metadata": {},
   "outputs": [],
   "source": []
  }
 ],
 "metadata": {
  "kernelspec": {
   "display_name": "Python 2",
   "language": "python",
   "name": "python2"
  },
  "language_info": {
   "codemirror_mode": {
    "name": "ipython",
    "version": 2
   },
   "file_extension": ".py",
   "mimetype": "text/x-python",
   "name": "python",
   "nbconvert_exporter": "python",
   "pygments_lexer": "ipython2",
   "version": "2.7.14"
  }
 },
 "nbformat": 4,
 "nbformat_minor": 2
}
